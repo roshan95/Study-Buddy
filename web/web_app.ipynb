{
 "cells": [
  {
   "cell_type": "code",
   "execution_count": 5,
   "id": "c28d40b9",
   "metadata": {
    "scrolled": true
   },
   "outputs": [],
   "source": [
    "get_ipython().run_line_magic('matplotlib', 'inline')\n",
    "\n",
    "import pandas as pd\n",
    "import numpy as np\n",
    "import sys\n",
    "import matplotlib.pyplot as plt # Needed for visualization\n",
    "import matplotlib as mpl # Needed for visualization\n",
    "from mpld3 import * # Needed for visualization\n",
    "import datapane as dp # Needed for visualization\n",
    "import altair as alt # Needed for visualization\n",
    "from flask import Flask, request, render_template, redirect, url_for # Needed for web implementation\n",
    "from sklearn.feature_extraction.text import TfidfVectorizer # Needed for recommendation algorithm\n",
    "from sklearn.metrics.pairwise import cosine_similarity # Needed for similarity calculation"
   ]
  },
  {
   "cell_type": "code",
   "execution_count": null,
   "id": "fce823b2",
   "metadata": {},
   "outputs": [],
   "source": [
    "#enable automatic D3 display of prepared model data \n",
    "enable_notebook()\n",
    "\n",
    "# set the value of maximum displayed rows to 50 rows\n",
    "pd.set_option('display.max_rows', 50)\n",
    "\n",
    "np.set_printoptions(threshold=sys.maxsize)\n",
    "alt.data_transformers.disable_max_rows()"
   ]
  },
  {
   "cell_type": "code",
   "execution_count": null,
   "id": "fb0b4082",
   "metadata": {},
   "outputs": [],
   "source": [
    "# function for setting up the scatter plot\n",
    "def sc1(results):\n",
    "    sc1_results = results[results[\"rating\"].notna()]\n",
    "    sc1_results = sc1_results.reset_index().iloc[:,1:]\n",
    "\n",
    "    fig, ax = plt.subplots(figsize = (12,12))\n",
    "    # Defines variables to use\n",
    "    points = ax.scatter(sc1_results[\"rating\"], sc1_results[\"similarity\"],\n",
    "                        s=400, alpha=0.7)\n",
    "\n",
    "    # Labels plot and sets ranges\n",
    "    labels = [\", \".join([sc1_results[\"major_name\"][i], sc1_results[\"university\"][i]]) for i in range(len(sc1_results.index))]\n",
    "    tooltip = plugins.PointLabelTooltip(points, labels)\n",
    "    ax.set_xlim(0, 5)\n",
    "    ax.set_ylim(0, sc1_results[\"similarity\"].max() + 0.04)\n",
    "    ax.set_title(\"Recommended majors by overall rating and similarity\")\n",
    "    ax.set_xlabel(\"Ratings from students\")\n",
    "    ax.set_ylabel(\"Degree of similarity to your interests\")\n",
    "    ax.tick_params(axis=\"both\", which=\"major\", labelsize=18)\n",
    "\n",
    "    # Creates hovering interactivity\n",
    "    plugins.connect(fig, tooltip)\n",
    "\n",
    "    # Saves plot to html for web view\n",
    "    save_html(fig, \"sc1_plot.html\")\n",
    "    sc1_plot = fig_to_html(fig)\n",
    "    return sc1_plot"
   ]
  },
  {
   "cell_type": "code",
   "execution_count": null,
   "id": "3ce97f0b",
   "metadata": {},
   "outputs": [],
   "source": [
    "# function for setting up the bar chart\n",
    "\n",
    "def bar1(results):\n",
    "    subcategory_list = list(results['language'].unique())\n",
    "    # Sets variables\n",
    "    results[\"major\"] = results[\"major_name\"] + \", \" + results[\"university\"] + \" (\" + results[\"degree_type\"] + \")                                 \" + results[\"major_id\"].astype(str)\n",
    "\n",
    "    # Creates dropdown interactivity\n",
    "    input_dropdown = alt.binding_select(options=subcategory_list)\n",
    "    selection = alt.selection_single(fields=['language'], bind=input_dropdown, name='Filter by: ')\n",
    "    selection2 = alt.selection_multi(fields=[\"subcategory\"], bind = \"legend\")\n",
    "\n",
    "    # Labels plot and defines optics\n",
    "    alt_plot = alt.Chart(results).mark_bar().encode(\n",
    "        x='similarity',\n",
    "        y=alt.Y(\"major\", sort = [\"rank\"]),\n",
    "        color=alt.Color(\"subcategory:N\", scale=alt.Scale(scheme=\"category20b\")),\n",
    "    ).properties(\n",
    "        width = 600\n",
    "    ).configure_axis(\n",
    "        labelFontSize=18,\n",
    "        labelLimit=350\n",
    "    ).add_selection(\n",
    "        selection\n",
    "    ).transform_filter(\n",
    "        selection\n",
    "    )\n",
    "\n",
    "    # Saves plot as html for web view\n",
    "    alt_plot.save(\"bar1.html\")\n",
    "    with open('bar1.html', 'r') as f:\n",
    "        bar1_html = f.read()\n",
    "    return bar1_html"
   ]
  },
  {
   "cell_type": "code",
   "execution_count": null,
   "id": "c104be76",
   "metadata": {},
   "outputs": [],
   "source": [
    "%run ../model/recommender.ipynb"
   ]
  },
  {
   "cell_type": "code",
   "execution_count": null,
   "id": "86185243",
   "metadata": {},
   "outputs": [],
   "source": [
    "app = Flask(__name__)\n",
    "\n",
    "# Route for handling the Home Page\n",
    "@app.route('/')\n",
    "\n",
    "# render the Home Page html template\n",
    "def my_form():\n",
    "    return render_template(\"Home.html\")"
   ]
  },
  {
   "cell_type": "code",
   "execution_count": null,
   "id": "0a9fc368",
   "metadata": {},
   "outputs": [],
   "source": [
    "# Route for handling the Results Page\n",
    "@app.route('/results', methods = [\"POST\"])\n",
    "\n",
    "# Function to display the table, a scatter plot and a bar plot\n",
    "def results():\n",
    "    global text\n",
    "    global results\n",
    "    text = request.form[\"interests\"]\n",
    "    results = studybuddy(text, 100)\n",
    "    sc1_plot = sc1(results=results)\n",
    "    bar1_plot = bar1(results=results)\n",
    "    \n",
    "# Renders the Results Page html template\n",
    "    return render_template('results.html', title='Your Study Buddy Results', majors=results, sc1_plot = sc1_plot, bar1_plot=bar1_plot)\n"
   ]
  },
  {
   "cell_type": "code",
   "execution_count": null,
   "id": "64ed6528",
   "metadata": {},
   "outputs": [],
   "source": [
    "# Route for handling the filtered Results page\n",
    "@app.route('/rld', methods = [\"POST\"])\n",
    "\n",
    "# Function to display a filtered table, a scatter plot and a bar plot\n",
    "def rld():\n",
    "    form = request.form[\"nresultsString\"]\n",
    "    if request.method == \"POST\":\n",
    "        nresultsString = request.form[\"nresultsString\"]\n",
    "        results = studybuddy(text, int(nresultsString))\n",
    "        sc1_plot = sc1(results=results)\n",
    "        bar1_plot = bar1(results=results)\n",
    "        \n",
    "# Render the Results Page extension html template\n",
    "    return render_template('results.html',\n",
    "                           title='Your Study Buddy Results',\n",
    "                           majors=results,\n",
    "                           sc1_plot = sc1_plot,\n",
    "                           bar1_plot=bar1_plot\n",
    "                           )"
   ]
  },
  {
   "cell_type": "code",
   "execution_count": null,
   "id": "e18b9f06",
   "metadata": {},
   "outputs": [],
   "source": [
    "# Initializes web app\n",
    "if __name__ == '__main__':\n",
    "    app.run()"
   ]
  }
 ],
 "metadata": {
  "kernelspec": {
   "display_name": "Python 3",
   "language": "python",
   "name": "python3"
  },
  "language_info": {
   "codemirror_mode": {
    "name": "ipython",
    "version": 3
   },
   "file_extension": ".py",
   "mimetype": "text/x-python",
   "name": "python",
   "nbconvert_exporter": "python",
   "pygments_lexer": "ipython3",
   "version": "3.8.8"
  }
 },
 "nbformat": 4,
 "nbformat_minor": 5
}
